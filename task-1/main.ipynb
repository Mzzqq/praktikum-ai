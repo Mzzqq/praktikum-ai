{
 "cells": [
  {
   "cell_type": "code",
   "execution_count": 1,
   "id": "initial_id",
   "metadata": {
    "collapsed": true,
    "ExecuteTime": {
     "end_time": "2024-02-27T12:24:07.079220Z",
     "start_time": "2024-02-27T12:24:06.521690600Z"
    }
   },
   "outputs": [],
   "source": [
    "import pandas as pd"
   ]
  },
  {
   "cell_type": "code",
   "execution_count": 3,
   "outputs": [
    {
     "name": "stdout",
     "output_type": "stream",
     "text": [
      "   Zahra  Lily  Dito  Naufal\n",
      "0      1    11    21      31\n",
      "1      2    22    32      42\n",
      "2      3    33    43      53\n"
     ]
    }
   ],
   "source": [
    "data = {\n",
    "    \"Zahra\": [1,2,3],\n",
    "    \"Lily\": [11,22,33],\n",
    "    \"Dito\": [21,32,43],\n",
    "    \"Naufal\": [31,42,53],\n",
    "}\n",
    "\n",
    "df = pd.DataFrame(data)\n",
    "print(df)"
   ],
   "metadata": {
    "collapsed": false,
    "ExecuteTime": {
     "end_time": "2024-02-27T12:27:29.478412100Z",
     "start_time": "2024-02-27T12:27:29.469012300Z"
    }
   },
   "id": "64e77c2d5c205dce"
  }
 ],
 "metadata": {
  "kernelspec": {
   "display_name": "Python 3",
   "language": "python",
   "name": "python3"
  },
  "language_info": {
   "codemirror_mode": {
    "name": "ipython",
    "version": 2
   },
   "file_extension": ".py",
   "mimetype": "text/x-python",
   "name": "python",
   "nbconvert_exporter": "python",
   "pygments_lexer": "ipython2",
   "version": "2.7.6"
  }
 },
 "nbformat": 4,
 "nbformat_minor": 5
}
