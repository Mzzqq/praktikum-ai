{
 "cells": [
  {
   "cell_type": "code",
   "execution_count": 1,
   "id": "initial_id",
   "metadata": {
    "collapsed": true,
    "ExecuteTime": {
     "end_time": "2024-02-27T12:24:07.079220Z",
     "start_time": "2024-02-27T12:24:06.521690600Z"
    }
   },
   "outputs": [],
   "source": [
    "import pandas as pd"
   ]
  },
  {
   "cell_type": "code",
   "execution_count": 11,
   "outputs": [],
   "source": [
    "data = {\n",
    "    \"Zahra\": [1,2,3],\n",
    "    \"Lily\": [4,5,6],\n",
    "    \"Dito\": [7,8,9],\n",
    "    \"Naufal\": [10,11,12],\n",
    "}\n",
    "\n",
    "df = pd.DataFrame(data)"
   ],
   "metadata": {
    "collapsed": false,
    "ExecuteTime": {
     "end_time": "2024-02-27T12:40:50.936292200Z",
     "start_time": "2024-02-27T12:40:50.923872900Z"
    }
   },
   "id": "64e77c2d5c205dce"
  },
  {
   "cell_type": "code",
   "execution_count": 12,
   "outputs": [
    {
     "name": "stdout",
     "output_type": "stream",
     "text": [
      "Display all data:\n",
      "   Zahra  Lily  Dito  Naufal\n",
      "0      1     4     7      10\n",
      "1      2     5     8      11\n",
      "2      3     6     9      12\n"
     ]
    }
   ],
   "source": [
    "print(\"Display all data:\")\n",
    "print(df)"
   ],
   "metadata": {
    "collapsed": false,
    "ExecuteTime": {
     "end_time": "2024-02-27T12:41:32.665250Z",
     "start_time": "2024-02-27T12:41:32.655523800Z"
    }
   },
   "id": "fd4de5ecb29ed96c"
  },
  {
   "cell_type": "code",
   "execution_count": null,
   "outputs": [],
   "source": [],
   "metadata": {
    "collapsed": false
   },
   "id": "fed516c26215c8cb"
  }
 ],
 "metadata": {
  "kernelspec": {
   "display_name": "Python 3",
   "language": "python",
   "name": "python3"
  },
  "language_info": {
   "codemirror_mode": {
    "name": "ipython",
    "version": 2
   },
   "file_extension": ".py",
   "mimetype": "text/x-python",
   "name": "python",
   "nbconvert_exporter": "python",
   "pygments_lexer": "ipython2",
   "version": "2.7.6"
  }
 },
 "nbformat": 4,
 "nbformat_minor": 5
}
