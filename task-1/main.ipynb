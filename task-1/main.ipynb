{
 "cells": [
  {
   "cell_type": "code",
   "execution_count": 19,
   "id": "initial_id",
   "metadata": {
    "collapsed": true,
    "ExecuteTime": {
     "end_time": "2024-02-27T12:53:04.079726700Z",
     "start_time": "2024-02-27T12:53:04.054953700Z"
    }
   },
   "outputs": [],
   "source": [
    "import pandas as pd"
   ]
  },
  {
   "cell_type": "code",
   "execution_count": 20,
   "outputs": [],
   "source": [
    "data = {\n",
    "    \"Zahra\": [1,2,3],\n",
    "    \"Lily\": [4,5,6],\n",
    "    \"Dito\": [7,8,9],\n",
    "    \"Naufal\": [10,11,12],\n",
    "}\n",
    "\n",
    "df = pd.DataFrame(data)"
   ],
   "metadata": {
    "collapsed": false,
    "ExecuteTime": {
     "end_time": "2024-02-27T12:53:04.080432Z",
     "start_time": "2024-02-27T12:53:04.062921400Z"
    }
   },
   "id": "64e77c2d5c205dce"
  },
  {
   "cell_type": "code",
   "execution_count": 21,
   "outputs": [
    {
     "name": "stdout",
     "output_type": "stream",
     "text": [
      "Display all data:\n",
      "   Zahra  Lily  Dito  Naufal\n",
      "0      1     4     7      10\n",
      "1      2     5     8      11\n",
      "2      3     6     9      12\n"
     ]
    }
   ],
   "source": [
    "print(\"Display all data:\")\n",
    "print(df)"
   ],
   "metadata": {
    "collapsed": false,
    "ExecuteTime": {
     "end_time": "2024-02-27T12:53:04.119748700Z",
     "start_time": "2024-02-27T12:53:04.073330400Z"
    }
   },
   "id": "fd4de5ecb29ed96c"
  },
  {
   "cell_type": "code",
   "execution_count": 22,
   "outputs": [
    {
     "name": "stdout",
     "output_type": "stream",
     "text": [
      "display value from row #1 and specified column:\n",
      "D class - Lily\t\t: 5\n",
      "E class - Naufal\t: 11\n",
      "F class - Zahra\t\t: 2\n"
     ]
    }
   ],
   "source": [
    "print(\"display value from row #1 and specified column:\")\n",
    "print(\"D class - Lily\\t\\t:\", df.at[1, 'Lily'])\n",
    "print(\"E class - Naufal\\t:\", df.at[1, 'Naufal'])\n",
    "print(\"F class - Zahra\\t\\t:\", df.at[1, 'Zahra'])"
   ],
   "metadata": {
    "collapsed": false,
    "ExecuteTime": {
     "end_time": "2024-02-27T12:53:04.119748700Z",
     "start_time": "2024-02-27T12:53:04.084930700Z"
    }
   },
   "id": "fed516c26215c8cb"
  },
  {
   "cell_type": "code",
   "execution_count": 23,
   "outputs": [
    {
     "name": "stdout",
     "output_type": "stream",
     "text": [
      "   Zahra  Lily  Dito  Naufal  Janet\n",
      "0      1     4     7      10      8\n",
      "1      2     5     8      11     10\n",
      "2      3     6     9      12     12\n"
     ]
    }
   ],
   "source": [
    "df['Janet'] = df['Zahra'] + df['Dito']\n",
    "print(df)"
   ],
   "metadata": {
    "collapsed": false,
    "ExecuteTime": {
     "end_time": "2024-02-27T12:53:04.119748700Z",
     "start_time": "2024-02-27T12:53:04.096091900Z"
    }
   },
   "id": "9e8c34591d66fbff"
  }
 ],
 "metadata": {
  "kernelspec": {
   "display_name": "Python 3",
   "language": "python",
   "name": "python3"
  },
  "language_info": {
   "codemirror_mode": {
    "name": "ipython",
    "version": 2
   },
   "file_extension": ".py",
   "mimetype": "text/x-python",
   "name": "python",
   "nbconvert_exporter": "python",
   "pygments_lexer": "ipython2",
   "version": "2.7.6"
  }
 },
 "nbformat": 4,
 "nbformat_minor": 5
}
