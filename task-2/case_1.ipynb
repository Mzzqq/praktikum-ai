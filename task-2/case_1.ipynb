{
 "cells": [
  {
   "cell_type": "code",
   "execution_count": 7,
   "outputs": [],
   "source": [
    "graph = {\n",
    "    'Arad': ['Zerind', 'Timisoara', 'Sibiu'],\n",
    "    'Zerind': ['Oradea'],\n",
    "    'Oradea': ['Sibiu'],\n",
    "    'Timisoara': ['Lugoj'],\n",
    "    'Lugoj': ['Mehadia'],\n",
    "    'Mehadia': ['Drobeta'],\n",
    "    'Drobeta': ['Craiova'],\n",
    "    'Craiova': ['Rimnicu Vilcea', 'Pitesti'],\n",
    "    'Sibiu': ['Fagaras', 'Rimnicu Vilcea'],\n",
    "    'Rimnicu Vilcea': ['Pitesti'],\n",
    "    'Fagaras': ['Bucharest'],\n",
    "    'Pitesti': ['Bucharest'],\n",
    "    'Bucharest': ['Urziceni', 'Giurgiu'],\n",
    "    'Urziceni': ['Vaslui', 'Hirsova'],\n",
    "    'Vaslui': ['Iasi'],\n",
    "    'Iasi': ['Neamt'],\n",
    "    'Hirsova': ['Eforie']\n",
    "}"
   ],
   "metadata": {
    "collapsed": false,
    "ExecuteTime": {
     "end_time": "2024-03-01T04:49:15.462955500Z",
     "start_time": "2024-03-01T04:49:15.445970800Z"
    }
   },
   "id": "e63c0d592cff891"
  },
  {
   "cell_type": "code",
   "execution_count": 8,
   "outputs": [],
   "source": [
    "def bfs(graph, start, goal):\n",
    "    \"\"\"\n",
    "    Breadth First Search\n",
    "    :param graph: dictionary\n",
    "    :param start: list\n",
    "    :param goal: any\n",
    "    :return: list\n",
    "    \"\"\"\n",
    "    visited = set()\n",
    "    queue = [[start]]\n",
    "\n",
    "    if start == goal:\n",
    "        return \"Start dan goal tidak boleh sama\"\n",
    "\n",
    "    while queue:\n",
    "        path = queue.pop(0)\n",
    "        node = path[-1]\n",
    "\n",
    "        if node not in visited:\n",
    "            neighbors = graph[node]\n",
    "\n",
    "            for neighbor in neighbors:\n",
    "                new_path = list(path)\n",
    "                new_path.append(neighbor)\n",
    "                queue.append(new_path)\n",
    "\n",
    "                if neighbor == goal:\n",
    "                    return new_path\n",
    "            visited.add(node)\n",
    "\n",
    "    return \"Route tidak ditemukan\""
   ],
   "metadata": {
    "collapsed": false,
    "ExecuteTime": {
     "end_time": "2024-03-01T04:49:15.464005500Z",
     "start_time": "2024-03-01T04:49:15.453743900Z"
    }
   },
   "id": "c982f41dde34f506"
  },
  {
   "cell_type": "code",
   "execution_count": 9,
   "outputs": [],
   "source": [
    "def dfs(graph, start, goal):\n",
    "    \"\"\"\n",
    "    Depth First Search\n",
    "    :param graph: dictionary\n",
    "    :param start: list\n",
    "    :param goal: any\n",
    "    :return: list\n",
    "    \"\"\"\n",
    "    visited = set()\n",
    "    stack = [[start]]\n",
    "\n",
    "    if start == goal:\n",
    "        return \"Start dan goal tidak boleh sama\"\n",
    "\n",
    "    while stack:\n",
    "        path = stack.pop()\n",
    "        node = path[-1]\n",
    "\n",
    "        if node not in visited:\n",
    "            neighbors = graph[node]\n",
    "\n",
    "            for neighbor in neighbors:\n",
    "                new_path = list(path)\n",
    "                new_path.append(neighbor)\n",
    "                stack.append(new_path)\n",
    "\n",
    "                if neighbor == goal:\n",
    "                    return new_path\n",
    "            visited.add(node)\n",
    "\n",
    "    return \"Route tidak ditemukan\""
   ],
   "metadata": {
    "collapsed": false,
    "ExecuteTime": {
     "end_time": "2024-03-01T04:49:15.496084900Z",
     "start_time": "2024-03-01T04:49:15.466017500Z"
    }
   },
   "id": "edd057cffa7dc5c1"
  },
  {
   "cell_type": "code",
   "execution_count": 11,
   "outputs": [
    {
     "name": "stdout",
     "output_type": "stream",
     "text": [
      "BFS Route from Arad to Bucharest: ['Arad', 'Sibiu', 'Fagaras', 'Bucharest']\n",
      "DFS Route from Arad to Bucharest: ['Arad', 'Sibiu', 'Rimnicu Vilcea', 'Pitesti', 'Bucharest']\n"
     ]
    }
   ],
   "source": [
    "arad_to_bucharest_bfs = bfs(graph, 'Arad', 'Bucharest')\n",
    "arad_to_bucharest_dfs = dfs(graph, 'Arad', 'Bucharest')\n",
    "\n",
    "print(\"BFS Route from Arad to Bucharest:\", arad_to_bucharest_bfs)\n",
    "print(\"DFS Route from Arad to Bucharest:\", arad_to_bucharest_dfs)"
   ],
   "metadata": {
    "collapsed": false,
    "ExecuteTime": {
     "end_time": "2024-03-01T04:49:27.166566600Z",
     "start_time": "2024-03-01T04:49:27.115622500Z"
    }
   },
   "id": "6133aac884faae5e"
  },
  {
   "cell_type": "code",
   "execution_count": 12,
   "outputs": [],
   "source": [
    "with open('route.txt', 'r') as file:\n",
    "    distances = {}\n",
    "    for line in file:\n",
    "        start, end, distance = line.strip().split(',')\n",
    "        distances[(start, end)] = int(distance)"
   ],
   "metadata": {
    "collapsed": false,
    "ExecuteTime": {
     "end_time": "2024-03-01T04:53:33.879013700Z",
     "start_time": "2024-03-01T04:53:33.834528900Z"
    }
   },
   "id": "fef31006c84deed"
  },
  {
   "cell_type": "code",
   "execution_count": null,
   "outputs": [],
   "source": [
    "def calculate_range(distances, route):\n",
    "    \"\"\"\n",
    "    Calculate the range from start to end cities using the distances dictionary\n",
    "    :param distances: dictionaries\n",
    "    :param route: list\n",
    "    :return: int\n",
    "    \"\"\"\n",
    "    total_distance = 0\n",
    "    for i in range(len(route) - 1):\n",
    "        start = route[i]\n",
    "        end = route[i + 1]\n",
    "        if (start, end) in distances:\n",
    "            total_distance += distances[(start, end)]\n",
    "        elif (end, start) in distances:  # Check if the route is bidirectional\n",
    "            total_distance += distances[(end, start)]\n",
    "    return total_distance"
   ],
   "metadata": {
    "collapsed": false
   },
   "id": "4b6f97dc7411cb61"
  }
 ],
 "metadata": {
  "kernelspec": {
   "display_name": "Python 3",
   "language": "python",
   "name": "python3"
  },
  "language_info": {
   "codemirror_mode": {
    "name": "ipython",
    "version": 2
   },
   "file_extension": ".py",
   "mimetype": "text/x-python",
   "name": "python",
   "nbconvert_exporter": "python",
   "pygments_lexer": "ipython2",
   "version": "2.7.6"
  }
 },
 "nbformat": 4,
 "nbformat_minor": 5
}
