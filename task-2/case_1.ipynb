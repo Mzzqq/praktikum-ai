{
 "cells": [
  {
   "cell_type": "code",
   "execution_count": 1,
   "outputs": [
    {
     "name": "stdout",
     "output_type": "stream",
     "text": [
      "BFS Route from Arad to Bucharest: ['Arad', 'Sibiu', 'Fagaras', 'Bucharest']\n",
      "DFS Route from Arad to Bucharest: ['Arad', 'Sibiu', 'Rimnicu Vilcea', 'Pitesti', 'Bucharest']\n"
     ]
    }
   ],
   "source": [
    "graph = {\n",
    "    'Arad': ['Zerind', 'Timisoara', 'Sibiu'],\n",
    "    'Zerind': ['Oradea'],\n",
    "    'Oradea': ['Sibiu'],\n",
    "    'Timisoara': ['Lugoj'],\n",
    "    'Lugoj': ['Mehadia'],\n",
    "    'Mehadia': ['Drobeta'],\n",
    "    'Drobeta': ['Craiova'],\n",
    "    'Craiova': ['Rimnicu Vilcea', 'Pitesti'],\n",
    "    'Sibiu': ['Fagaras', 'Rimnicu Vilcea'],\n",
    "    'Rimnicu Vilcea': ['Pitesti'],\n",
    "    'Fagaras': ['Bucharest'],\n",
    "    'Pitesti': ['Bucharest'],\n",
    "    'Bucharest': ['Urziceni', 'Giurgiu'],\n",
    "    'Urziceni': ['Vaslui', 'Hirsova'],\n",
    "    'Vaslui': ['Iasi'],\n",
    "    'Iasi': ['Neamt'],\n",
    "    'Hirsova': ['Eforie']\n",
    "}"
   ],
   "metadata": {
    "collapsed": false,
    "ExecuteTime": {
     "end_time": "2024-03-01T04:32:04.855664100Z",
     "start_time": "2024-03-01T04:32:04.839111300Z"
    }
   },
   "id": "e63c0d592cff891"
  },
  {
   "cell_type": "code",
   "execution_count": 5,
   "outputs": [
    {
     "name": "stdout",
     "output_type": "stream",
     "text": [
      "Range from Arad to Bucharest: 418\n"
     ]
    }
   ],
   "source": [
    "def bfs(graph, start, goal):\n",
    "    visited = set()\n",
    "    queue = [[start]]\n",
    "\n",
    "    if start == goal:\n",
    "        return \"Start dan goal tidak boleh sama\"\n",
    "\n",
    "    while queue:\n",
    "        path = queue.pop(0)\n",
    "        node = path[-1]\n",
    "\n",
    "        if node not in visited:\n",
    "            neighbors = graph[node]\n",
    "\n",
    "            for neighbor in neighbors:\n",
    "                new_path = list(path)\n",
    "                new_path.append(neighbor)\n",
    "                queue.append(new_path)\n",
    "\n",
    "                if neighbor == goal:\n",
    "                    return new_path\n",
    "            visited.add(node)\n",
    "\n",
    "    return \"Route tidak ditemukan\""
   ],
   "metadata": {
    "collapsed": false,
    "ExecuteTime": {
     "end_time": "2024-03-01T04:40:26.870114600Z",
     "start_time": "2024-03-01T04:40:26.851860900Z"
    }
   },
   "id": "c982f41dde34f506"
  },
  {
   "cell_type": "code",
   "execution_count": null,
   "outputs": [],
   "source": [
    "def dfs(graph, start, goal):\n",
    "    visited = set()\n",
    "    stack = [[start]]\n",
    "\n",
    "    if start == goal:\n",
    "        return \"Start dan goal tidak boleh sama\"\n",
    "\n",
    "    while stack:\n",
    "        path = stack.pop()\n",
    "        node = path[-1]\n",
    "\n",
    "        if node not in visited:\n",
    "            neighbors = graph[node]\n",
    "\n",
    "            for neighbor in neighbors:\n",
    "                new_path = list(path)\n",
    "                new_path.append(neighbor)\n",
    "                stack.append(new_path)\n",
    "\n",
    "                if neighbor == goal:\n",
    "                    return new_path\n",
    "            visited.add(node)\n",
    "\n",
    "    return \"Route tidak ditemukan\""
   ],
   "metadata": {
    "collapsed": false
   },
   "id": "edd057cffa7dc5c1"
  }
 ],
 "metadata": {
  "kernelspec": {
   "display_name": "Python 3",
   "language": "python",
   "name": "python3"
  },
  "language_info": {
   "codemirror_mode": {
    "name": "ipython",
    "version": 2
   },
   "file_extension": ".py",
   "mimetype": "text/x-python",
   "name": "python",
   "nbconvert_exporter": "python",
   "pygments_lexer": "ipython2",
   "version": "2.7.6"
  }
 },
 "nbformat": 4,
 "nbformat_minor": 5
}
