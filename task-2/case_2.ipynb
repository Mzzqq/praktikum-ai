{
 "cells": [
  {
   "cell_type": "code",
   "execution_count": 1,
   "id": "initial_id",
   "metadata": {
    "collapsed": true,
    "ExecuteTime": {
     "end_time": "2024-03-01T06:50:02.589144700Z",
     "start_time": "2024-03-01T06:50:02.574006300Z"
    }
   },
   "outputs": [],
   "source": [
    "from collections import deque\n",
    "\n",
    "initial_value = [\n",
    "    [1,2,3],\n",
    "    [8, None, 4],\n",
    "    [7, 6, 5],\n",
    "]\n",
    "\n",
    "goals = [\n",
    "    [2, 8, 3],\n",
    "    [1, 6, 4],\n",
    "    [7, None, 5],\n",
    "]\n",
    "\n",
    "def heuristic(state):\n",
    "    return sum(1 for i in range(3) for j in range(3) if state[i][j] != goals[i][j])\n",
    "\n"
   ]
  },
  {
   "cell_type": "code",
   "execution_count": null,
   "outputs": [],
   "source": [],
   "metadata": {
    "collapsed": false
   },
   "id": "daec822216e1dcac"
  }
 ],
 "metadata": {
  "kernelspec": {
   "display_name": "Python 3",
   "language": "python",
   "name": "python3"
  },
  "language_info": {
   "codemirror_mode": {
    "name": "ipython",
    "version": 2
   },
   "file_extension": ".py",
   "mimetype": "text/x-python",
   "name": "python",
   "nbconvert_exporter": "python",
   "pygments_lexer": "ipython2",
   "version": "2.7.6"
  }
 },
 "nbformat": 4,
 "nbformat_minor": 5
}
