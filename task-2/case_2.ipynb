{
 "cells": [
  {
   "cell_type": "code",
   "execution_count": 1,
   "id": "initial_id",
   "metadata": {
    "collapsed": true,
    "ExecuteTime": {
     "end_time": "2024-03-07T13:25:40.775384600Z",
     "start_time": "2024-03-07T13:25:40.759074300Z"
    }
   },
   "outputs": [
    {
     "name": "stdout",
     "output_type": "stream",
     "text": [
      "Before:\n",
      "[1, 2, 3]\n",
      "[8, None, 4]\n",
      "[7, 6, 5]\n",
      "After:\n",
      "[2, 8, 3]\n",
      "[1, 6, 4]\n",
      "[7, None, 5]\n"
     ]
    }
   ],
   "source": [
    "from collections import deque\n",
    "\n",
    "initial_value = [\n",
    "    [1,2,3],\n",
    "    [8, None, 4],\n",
    "    [7, 6, 5],\n",
    "]\n",
    "\n",
    "goals = [\n",
    "    [2, 8, 3],\n",
    "    [1, 6, 4],\n",
    "    [7, None, 5],\n",
    "]\n",
    "\n",
    "def heuristic(state):\n",
    "    return sum(1 for i in range(3) for j in range(3) if state[i][j] != goals[i][j])\n",
    "\n",
    "def best_first_search(initial_state):\n",
    "    visited = set()\n",
    "    queue = deque([(initial_state, 0)])  # (state, cost)\n",
    "\n",
    "    while queue:\n",
    "        state, depth = queue.popleft()\n",
    "        visited.add(tuple(map(tuple, state)))\n",
    "\n",
    "        if state == goals:\n",
    "            return state\n",
    "\n",
    "        next_states = []\n",
    "        for i in range(3):\n",
    "            for j in range(3):\n",
    "                if state[i][j] is None:\n",
    "                    for dx, dy in [(0, 1), (1, 0), (0, -1), (-1, 0)]:\n",
    "                        ni, nj = i + dx, j + dy\n",
    "                        if 0 <= ni < 3 and 0 <= nj < 3:\n",
    "                            new_state = [row[:] for row in state]\n",
    "                            new_state[i][j], new_state[ni][nj] = new_state[ni][nj], new_state[i][j]\n",
    "                            next_states.append(new_state)\n",
    "\n",
    "        next_states.sort(key=lambda x: heuristic(x))\n",
    "\n",
    "        for next_state in next_states:\n",
    "            if tuple(map(tuple, next_state)) not in visited:\n",
    "                queue.append((next_state, depth + 1))\n",
    "\n",
    "    return None\n",
    "\n",
    "solution = best_first_search(initial_value)\n",
    "if solution:\n",
    "    print(\"Before:\")\n",
    "    for row in initial_value:\n",
    "        print(row)\n",
    "    print(\"After:\")\n",
    "    for row in solution:\n",
    "        print(row)\n",
    "else:\n",
    "    print(\"No solution found.\")\n"
   ]
  },
  {
   "cell_type": "code",
   "execution_count": null,
   "outputs": [],
   "source": [],
   "metadata": {
    "collapsed": false
   },
   "id": "daec822216e1dcac"
  }
 ],
 "metadata": {
  "kernelspec": {
   "display_name": "Python 3",
   "language": "python",
   "name": "python3"
  },
  "language_info": {
   "codemirror_mode": {
    "name": "ipython",
    "version": 2
   },
   "file_extension": ".py",
   "mimetype": "text/x-python",
   "name": "python",
   "nbconvert_exporter": "python",
   "pygments_lexer": "ipython2",
   "version": "2.7.6"
  }
 },
 "nbformat": 4,
 "nbformat_minor": 5
}
